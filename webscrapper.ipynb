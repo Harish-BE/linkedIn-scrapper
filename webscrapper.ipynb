{
 "cells": [
  {
   "cell_type": "code",
   "execution_count": 9,
   "id": "15639c3c",
   "metadata": {},
   "outputs": [],
   "source": [
    "import requests\n",
    "from selenium import webdriver\n",
    "from selenium.webdriver.common.by import By\n",
    "from bs4 import BeautifulSoup\n",
    "import time\n",
    "import pandas as pd"
   ]
  },
  {
   "cell_type": "code",
   "execution_count": 10,
   "id": "d159462e",
   "metadata": {},
   "outputs": [
    {
     "name": "stderr",
     "output_type": "stream",
     "text": [
      "C:\\Users\\mrsva\\AppData\\Local\\Temp\\ipykernel_16172\\3252813122.py:2: DeprecationWarning: executable_path has been deprecated, please pass in a Service object\n",
      "  driver = webdriver.Chrome(\"chromedriver.exe\")\n",
      "C:\\Users\\mrsva\\AppData\\Local\\Temp\\ipykernel_16172\\3252813122.py:12: DeprecationWarning: find_element_by_* commands are deprecated. Please use find_element() instead\n",
      "  username = driver.find_element_by_id(\"username\")\n",
      "C:\\Users\\mrsva\\AppData\\Local\\Temp\\ipykernel_16172\\3252813122.py:21: DeprecationWarning: find_element_by_* commands are deprecated. Please use find_element() instead\n",
      "  pword = driver.find_element_by_id(\"password\")\n",
      "C:\\Users\\mrsva\\AppData\\Local\\Temp\\ipykernel_16172\\3252813122.py:31: DeprecationWarning: find_element_by_xpath is deprecated. Please use find_element(by=By.XPATH, value=xpath) instead\n",
      "  driver.find_element_by_xpath(\"//button[@type='submit']\").click()\n"
     ]
    }
   ],
   "source": [
    "# Creating a webdriver instance\n",
    "driver = webdriver.Chrome(\"chromedriver.exe\")\n",
    "# This instance will be used to log into LinkedIn\n",
    "  \n",
    "# Opening linkedIn's login page\n",
    "driver.get(\"https://linkedin.com/uas/login\")\n",
    "  \n",
    "# waiting for the page to load\n",
    "time.sleep(5)\n",
    "  \n",
    "# entering username\n",
    "username = driver.find_element_by_id(\"username\")\n",
    "  \n",
    "# In case of an error, try changing the element\n",
    "# tag used here.\n",
    "  \n",
    "# Enter Your Email Address\n",
    "username.send_keys(\"shironohara02@gmail.com\")  \n",
    "  \n",
    "# entering password\n",
    "pword = driver.find_element_by_id(\"password\")\n",
    "# In case of an error, try changing the element \n",
    "# tag used here.\n",
    "  \n",
    "# Enter Your Password\n",
    "pword.send_keys(\"coronavirus\")        \n",
    "  \n",
    "# Clicking on the log in button\n",
    "# Format (syntax) of writing XPath --> \n",
    "# //tagname[@attribute='value']\n",
    "driver.find_element_by_xpath(\"//button[@type='submit']\").click()\n",
    "# In case of an error, try changing the\n",
    "# XPath used here."
   ]
  },
  {
   "cell_type": "code",
   "execution_count": null,
   "id": "00c5376b",
   "metadata": {},
   "outputs": [],
   "source": [
    "#https://www.linkedin.com/in/javanrajpopat/\n",
    "#https://www.linkedin.com/in/aishwaryanevrekar/\n",
    "profile_url = \"https://www.linkedin.com/feed/\"\n",
    "r = requests.get(profile_url)\n",
    "\n",
    "  \n",
    "driver.get(profile_url)\n",
    "\n",
    "\n"
   ]
  },
  {
   "cell_type": "code",
   "execution_count": null,
   "id": "23180ed0",
   "metadata": {},
   "outputs": [],
   "source": [
    "# driver.get('https://www.linkedin.com/search/results/all/?keywords=software%20engineer&origin=TYPEAHEAD_HISTORY&position=0&searchId=d2e01545-c47e-4964-869b-c1d951681c4f&sid=K6z')\n",
    "# service=driver.find_elements(By.CSS_SELECTOR,'.artdeco-pill.artdeco-pill--slate.artdeco-pill--choice.artdeco-pill--2.search-reusables__filter-pill-button.search-reusables__filter-pill-button')\n",
    "# service[8].click()\n",
    "# time.sleep(3)\n",
    "numOfProfile=6\n",
    "for page in range(26,100):\n",
    "    for numOfProfile in range(6,26,2):\n",
    "        if(numOfProfile>18):\n",
    "            numOfProfile=6\n",
    "        driver.get(f'https://www.linkedin.com/search/results/services/?keywords=cyber%20security&origin=SWITCH_SEARCH_VERTICAL&page={page}&position=0&searchId=3d7795db-ff03-447a-9c48-daef7736f188&sid=fXr')\n",
    "        #https://www.linkedin.com/search/results/services/?keywords=chemical%20engineer&origin=SWITCH_SEARCH_VERTICAL&page={page}&sid=uWR\n",
    "        #https://www.linkedin.com/search/results/services/?keywords=software%20developer&origin=SWITCH_SEARCH_VERTICAL&page={page}&position=0&searchId=3d7795db-ff03-447a-9c48-daef7736f188&sid=fXr\n",
    "        src = driver.page_source\n",
    "        soup = BeautifulSoup(src, 'html.parser')\n",
    "        a=soup.find_all('a',{'class':'app-aware-link'})\n",
    "        driver.get(a[numOfProfile].get('href'))\n",
    "    \n",
    "#         profile=driver.find_elements(By.CSS_SELECTOR,'.entity-result__title-text.t-16')\n",
    "#         print(profile[numOfProfile].text)\n",
    "\n",
    "#         profile[numOfProfile].click()\n",
    "        time.sleep(5)\n",
    "        src = driver.page_source\n",
    "        # Now using beautiful soup\n",
    "        soup = BeautifulSoup(src, 'html.parser')\n",
    "        time.sleep(2)\n",
    "        profileInfo=soup.find('div',{'class':'text-body-medium break-words'})\n",
    "        profileInfo=profileInfo.text\n",
    "        print(profileInfo)\n",
    "        \n",
    "        #profileName\n",
    "        profileName=soup.find('h1',{'class':'text-heading-xlarge inline t-24 v-align-middle break-words'})\n",
    "        print(profileName.text)\n",
    "        \n",
    "#         about=soup.find('div',{'class':'inline-show-more-text inline-show-more-text--is-collapsed'})\n",
    "#         about=about.text\n",
    "#         print(about)\n",
    "        a=soup.find_all('a',{'class':'optional-action-target-wrapper artdeco-button artdeco-button--tertiary artdeco-button--3 artdeco-button--muted inline-flex justify-center full-width align-items-center artdeco-button--fluid'})\n",
    "    \n",
    "        skills=[\"\",\"\",\"\"]\n",
    "        for t in a:\n",
    "            if('skills' in t.get('href')):\n",
    "                href=t.get('href')\n",
    "                driver.get(href)\n",
    "                time.sleep(5)\n",
    "                src = driver.page_source\n",
    "                soup = BeautifulSoup(src, 'html.parser')\n",
    "                subSkills=soup.select(selector=\".pvs-list__paged-list-item.artdeco-list__item.pvs-list__item--line-separated\")\n",
    "                print(\"skills\")\n",
    "                for item in subSkills:\n",
    "                    i=0\n",
    "                    print(item.find('span',{'class':'visually-hidden'}).text)\n",
    "                    skills.insert(i,item.find('span',{'class':'visually-hidden'}).text)\n",
    "                    i+=1\n",
    "        certifictions=[\"\",\"\",\"\"]\n",
    "        for t in a:\n",
    "            if('certification' in t.get('href')):\n",
    "                    href=t.get('href')\n",
    "                    driver.get(href)\n",
    "                    time.sleep(5)\n",
    "                    src = driver.page_source\n",
    "                    soup = BeautifulSoup(src, 'html.parser')\n",
    "                    subCourses=soup.select(selector=\".pvs-list__paged-list-item.artdeco-list__item.pvs-list__item--line-separated\")\n",
    "                    print(\"certifications\")\n",
    "                    for item in subCourses:\n",
    "                        i=0\n",
    "                        print(item.find('span',{'class':'visually-hidden'}).text)\n",
    "                        certifictions.insert(i,item.find('span',{'class':'visually-hidden'}).text)\n",
    "                        i+=1\n",
    "        courses=[\"\",\"\",\"\"]\n",
    "        for t in a:\n",
    "            if('courses' in t.get('href')):\n",
    "                    href=t.get('href')\n",
    "                    driver.get(href)\n",
    "                    time.sleep(5)\n",
    "                    src = driver.page_source\n",
    "                    soup = BeautifulSoup(src, 'html.parser')\n",
    "                    subCourses=soup.select(selector=\".pvs-list__paged-list-item.artdeco-list__item.pvs-list__item--line-separated\")\n",
    "                    print(\"courses\")\n",
    "                    for item in subCourses:\n",
    "                        i=0\n",
    "                        print(item.find('span',{'class':'visually-hidden'}).text)\n",
    "                        courses.insert(i,item.find('span',{'class':'visually-hidden'}).text)\n",
    "                        i+=1\n",
    "        experiences=[\"\",\"\",\"\"]\n",
    "        for t in a:\n",
    "            if('experience' in t.get('href')):\n",
    "                    href=t.get('href')\n",
    "                    driver.get(href)\n",
    "                    time.sleep(5)\n",
    "                    src = driver.page_source\n",
    "                    soup = BeautifulSoup(src, 'html.parser')\n",
    "                    subCourses=soup.select(selector=\".pvs-list__paged-list-item.artdeco-list__item.pvs-list__item--line-separated\")\n",
    "                    print(\"experience\")\n",
    "                       \n",
    "                    for item in subCourses:\n",
    "                        i=0\n",
    "                        print(item.find('span',{'class':'visually-hidden'}).text)\n",
    "                        experiences.insert(i,item.find('span',{'class':'visually-hidden'}).text)\n",
    "                        i+=1\n",
    "                        \n",
    "        \n",
    "\n",
    "        print(\"new\")\n",
    "        dict = {'name':[profileName.text], 'skill1':[skills[0]], 'skill2':[skills[1]], 'skill3':[skills[2]], 'certification1':[certifictions[0]],'certification2':[certifictions[1]],'certification3':[certifictions[2]],'experience1':[experiences[0]],'experience2':[experiences[1]],'experience3':[experiences[2]],\n",
    "        'course1':[courses[0]],'course2':[courses[1]],'course3':[courses[2]],'experience1':[experiences[0]],'experience2':[experiences[1]],'experience3':[experiences[2]],'output':['Cyber security']}\n",
    "\n",
    "        df=pd.DataFrame(dict)\n",
    "        df.to_csv('file2.csv',mode='a', index=False, header=False)\n",
    "        \n",
    "        \n"
   ]
  },
  {
   "cell_type": "code",
   "execution_count": null,
   "id": "062b7cf0",
   "metadata": {},
   "outputs": [],
   "source": [
    "page=1\n",
    "driver.get(f'https://www.linkedin.com/search/results/services/?keywords=software%20developer&origin=SWITCH_SEARCH_VERTICAL&page={page}&position=0&searchId=3d7795db-ff03-447a-9c48-daef7736f188&sid=fXr')\n",
    "#https://www.linkedin.com/search/results/services/?keywords=chemical%20engineer&origin=SWITCH_SEARCH_VERTICAL&page={page}&sid=uWR\n",
    "#https://www.linkedin.com/search/results/services/?keywords=software%20developer&origin=SWITCH_SEARCH_VERTICAL&page={page}&position=0&searchId=3d7795db-ff03-447a-9c48-daef7736f188&sid=fXr\n",
    "src = driver.page_source\n",
    "soup = BeautifulSoup(src, 'html.parser')\n",
    "a=soup.find_all('a',{'class':'app-aware-link'})\n",
    "driver.get(a[12].get('href'))\n",
    "print(a)"
   ]
  },
  {
   "cell_type": "code",
   "execution_count": null,
   "id": "042c51e2",
   "metadata": {},
   "outputs": [],
   "source": []
  },
  {
   "cell_type": "code",
   "execution_count": null,
   "id": "a5b9d8c9",
   "metadata": {},
   "outputs": [],
   "source": [
    "dict = {'name':[profileName.text], 'skill1':[skills[0]], 'skill2':[skills[1]], 'skill3':[skills[2]], 'certification1':[certifictions[0]],'certification2':[certifictions[1]],'certification3':[certifictions[2]],'experience1':[experiences[0]],'experience2':[experiences[1]],'experience3':[experiences[2]],\n",
    "        'course1':[courses[0]],'course2':[courses[1]],'course3':[courses[2]],'experience1':[experiences[0]],'experience2':[experiences[1]],'experience3':[experiences[2]],'output':['Software developer']}\n",
    "\n",
    "df=pd.DataFrame(dict)\n",
    "df.to_csv('file2.csv',mode='a', index=False)"
   ]
  },
  {
   "cell_type": "code",
   "execution_count": null,
   "id": "b82a7039",
   "metadata": {},
   "outputs": [],
   "source": [
    " driver.get(f'https://www.linkedin.com/in/ramachandran-kulothungan-99968741/')\n",
    "        \n",
    "src = driver.page_source\n",
    "soup = BeautifulSoup(src, 'html.parser')\n",
    "\n",
    "profileName=soup.find('h1',{'class':'text-heading-xlarge inline t-24 v-align-middle break-words'})\n",
    "print(profileName.text)\n",
    "#print(soup)"
   ]
  },
  {
   "cell_type": "code",
   "execution_count": null,
   "id": "fed9ef8c",
   "metadata": {},
   "outputs": [],
   "source": [
    "driver.get(f'https://www.linkedin.com/search/results/services/?keywords=software%20engineer&origin=SWITCH_SEARCH_VERTICAL&page=1&position=0&searchId=602935ef-6fd4-4110-a2a5-7c6c81aa725e&sid=RlE')\n"
   ]
  },
  {
   "cell_type": "code",
   "execution_count": null,
   "id": "1c1ece2a",
   "metadata": {},
   "outputs": [],
   "source": [
    "# profile=driver.find_elements(By.CSS_SELECTOR,'.app-aware-link').get('href')\n",
    "# print(profile[4].text)\n",
    "# for i in profile:\n",
    "#     print(i.text)\n",
    "for i in range(0,20,2):\n",
    "    src = driver.page_source\n",
    "    soup = BeautifulSoup(src, 'html.parser')\n",
    "\n",
    "    a=soup.find_all('a',{'class':'app-aware-link'})\n",
    "    driver.get(a[i].get('href'))\n",
    "    driver.get(f'https://www.linkedin.com/search/results/services/?keywords=software%20engineer&origin=SWITCH_SEARCH_VERTICAL&page=1&position=0&searchId=602935ef-6fd4-4110-a2a5-7c6c81aa725e&sid=RlE')"
   ]
  },
  {
   "cell_type": "code",
   "execution_count": null,
   "id": "1914eb35",
   "metadata": {},
   "outputs": [],
   "source": []
  },
  {
   "cell_type": "code",
   "execution_count": null,
   "id": "82fa7429",
   "metadata": {},
   "outputs": [],
   "source": [
    "start = time.time()\n",
    "  \n",
    "# will be used in the while loop\n",
    "initialScroll = 0\n",
    "finalScroll = 1000\n",
    "try:\n",
    "    while True:\n",
    "        driver.execute_script(f\"window.scrollTo({initialScroll},{finalScroll}) \")\n",
    "        # this command scrolls the window starting from\n",
    "        # the pixel value stored in the initialScroll \n",
    "        # variable to the pixel value stored at the\n",
    "        # finalScroll variable\n",
    "        initialScroll = finalScroll\n",
    "        finalScroll += 1000\n",
    "\n",
    "        # we will stop the script for 3 seconds so that \n",
    "        # the data can load\n",
    "        time.sleep(3)\n",
    "        # You can change it as per your needs and internet speed\n",
    "\n",
    "        end = time.time()\n",
    "\n",
    "        # We will scroll for 20 seconds.\n",
    "        # You can change it as per your needs and internet speed\n",
    "        if round(end - start) > 20:\n",
    "            break\n",
    "except:\n",
    "    pass"
   ]
  },
  {
   "cell_type": "code",
   "execution_count": null,
   "id": "7f150cce",
   "metadata": {},
   "outputs": [],
   "source": [
    "src = driver.page_source\n",
    "  \n",
    "# Now using beautiful soup\n",
    "soup = BeautifulSoup(src, 'html.parser')"
   ]
  },
  {
   "cell_type": "code",
   "execution_count": null,
   "id": "a941b57d",
   "metadata": {},
   "outputs": [],
   "source": [
    "# a=soup.find_all('a',{'class':'optional-action-target-wrapper artdeco-button artdeco-button--tertiary artdeco-button--3 artdeco-button--muted inline-flex justify-center full-width align-items-center artdeco-button--fluid'})\n",
    "# course=a[3].get('href')\n",
    "\n",
    "# driver.get(course)"
   ]
  },
  {
   "cell_type": "code",
   "execution_count": null,
   "id": "ac60788d",
   "metadata": {},
   "outputs": [],
   "source": [
    "profileInfo=soup.find('div',{'class':'text-body-medium break-words'})\n",
    "\n",
    "profileInfo=profileInfo.text"
   ]
  },
  {
   "cell_type": "code",
   "execution_count": null,
   "id": "1c6a4186",
   "metadata": {},
   "outputs": [],
   "source": [
    "about=soup.find('div',{'class':'inline-show-more-text inline-show-more-text--is-collapsed'})\n",
    "about=about.text"
   ]
  },
  {
   "cell_type": "code",
   "execution_count": null,
   "id": "7161d76e",
   "metadata": {},
   "outputs": [],
   "source": [
    "a=soup.find_all('a',{'class':'optional-action-target-wrapper artdeco-button artdeco-button--tertiary artdeco-button--3 artdeco-button--muted inline-flex justify-center full-width align-items-center artdeco-button--fluid'})\n",
    "print(a[1].get('href'))"
   ]
  },
  {
   "cell_type": "code",
   "execution_count": null,
   "id": "d7cef888",
   "metadata": {},
   "outputs": [],
   "source": [
    "skills=[]\n",
    "for t in a:\n",
    "    if('skills' in t.get('href')):\n",
    "        href=t.get('href')\n",
    "        driver.get(href)\n",
    "        time.sleep(5)\n",
    "        src = driver.page_source\n",
    "        soup = BeautifulSoup(src, 'html.parser')\n",
    "        subSkills=soup.select(selector=\".pvs-list__paged-list-item.artdeco-list__item.pvs-list__item--line-separated\")\n",
    "        for item in subSkills:\n",
    "            #print(item.find('span',{'class':'visually-hidden'}).text)\n",
    "            skills.append(item.find('span',{'class':'visually-hidden'}).text)\n",
    "            "
   ]
  },
  {
   "cell_type": "code",
   "execution_count": null,
   "id": "c68023d4",
   "metadata": {},
   "outputs": [],
   "source": [
    "courses=[]\n",
    "for t in a:\n",
    "    if('courses' in t.get('href')):\n",
    "            href=t.get('href')\n",
    "            driver.get(href)\n",
    "            time.sleep(5)\n",
    "            src = driver.page_source\n",
    "            soup = BeautifulSoup(src, 'html.parser')\n",
    "            subCourses=soup.select(selector=\".pvs-list__paged-list-item.artdeco-list__item.pvs-list__item--line-separated\")\n",
    "            for item in subCourses:\n",
    "                #print(item.find('span',{'class':'visually-hidden'}).text)\n",
    "                courses.append(item.find('span',{'class':'visually-hidden'}).text)\n",
    "                "
   ]
  },
  {
   "cell_type": "code",
   "execution_count": null,
   "id": "55bdf98a",
   "metadata": {},
   "outputs": [],
   "source": [
    "certifictions=[]\n",
    "for t in a:\n",
    "    if('certification' in t.get('href')):\n",
    "            href=t.get('href')\n",
    "            driver.get(href)\n",
    "            time.sleep(5)\n",
    "            src = driver.page_source\n",
    "            soup = BeautifulSoup(src, 'html.parser')\n",
    "            subCourses=soup.select(selector=\".pvs-list__paged-list-item.artdeco-list__item.pvs-list__item--line-separated\")\n",
    "            for item in subCourses:\n",
    "                #print(item.find('span',{'class':'visually-hidden'}).text)\n",
    "                certifictions.append(item.find('span',{'class':'visually-hidden'}).text)\n",
    "                "
   ]
  },
  {
   "cell_type": "code",
   "execution_count": null,
   "id": "656508d0",
   "metadata": {},
   "outputs": [],
   "source": [
    "experiences=[]\n",
    "for t in a:\n",
    "    if('experience' in t.get('href')):\n",
    "            href=t.get('href')\n",
    "            driver.get(href)\n",
    "            time.sleep(5)\n",
    "            src = driver.page_source\n",
    "            soup = BeautifulSoup(src, 'html.parser')\n",
    "            subCourses=soup.select(selector=\".pvs-list__paged-list-item.artdeco-list__item.pvs-list__item--line-separated\")\n",
    "            for item in subCourses:\n",
    "                #print(item.find('span',{'class':'visually-hidden'}).text)\n",
    "                experiences.append(item.find('span',{'class':'visually-hidden'}).text)\n",
    "                "
   ]
  },
  {
   "cell_type": "code",
   "execution_count": null,
   "id": "2746a09e",
   "metadata": {},
   "outputs": [],
   "source": [
    "print(profileInfo)"
   ]
  },
  {
   "cell_type": "code",
   "execution_count": null,
   "id": "2a5c131d",
   "metadata": {},
   "outputs": [],
   "source": [
    "print(profileName.text)"
   ]
  },
  {
   "cell_type": "code",
   "execution_count": null,
   "id": "af3401e4",
   "metadata": {},
   "outputs": [],
   "source": [
    "print(about)"
   ]
  },
  {
   "cell_type": "code",
   "execution_count": null,
   "id": "902705d4",
   "metadata": {},
   "outputs": [],
   "source": [
    "for skill in skills:\n",
    "    print(skill)"
   ]
  },
  {
   "cell_type": "code",
   "execution_count": null,
   "id": "6696e08f",
   "metadata": {},
   "outputs": [],
   "source": [
    "for course in courses:\n",
    "    print(course)"
   ]
  },
  {
   "cell_type": "code",
   "execution_count": null,
   "id": "48cfd12c",
   "metadata": {},
   "outputs": [],
   "source": [
    "for certificate in certifictions:\n",
    "    print(certificate)"
   ]
  },
  {
   "cell_type": "code",
   "execution_count": null,
   "id": "568c9559",
   "metadata": {},
   "outputs": [],
   "source": [
    "for experience in experiences:\n",
    "    print(experience)"
   ]
  }
 ],
 "metadata": {
  "kernelspec": {
   "display_name": "Python 3 (ipykernel)",
   "language": "python",
   "name": "python3"
  },
  "language_info": {
   "codemirror_mode": {
    "name": "ipython",
    "version": 3
   },
   "file_extension": ".py",
   "mimetype": "text/x-python",
   "name": "python",
   "nbconvert_exporter": "python",
   "pygments_lexer": "ipython3",
   "version": "3.9.10"
  }
 },
 "nbformat": 4,
 "nbformat_minor": 5
}
